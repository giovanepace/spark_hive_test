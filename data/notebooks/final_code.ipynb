{
 "cells": [
  {
   "cell_type": "code",
   "execution_count": 1,
   "metadata": {},
   "outputs": [],
   "source": [
    "import pyspark"
   ]
  },
  {
   "cell_type": "code",
   "execution_count": 2,
   "metadata": {},
   "outputs": [],
   "source": [
    "from pyspark.sql import HiveContext"
   ]
  },
  {
   "cell_type": "code",
   "execution_count": 3,
   "metadata": {},
   "outputs": [],
   "source": [
    "import pandas as pd"
   ]
  },
  {
   "cell_type": "code",
   "execution_count": 4,
   "metadata": {},
   "outputs": [],
   "source": [
    "import pyspark.sql.functions as f"
   ]
  },
  {
   "cell_type": "code",
   "execution_count": 5,
   "metadata": {},
   "outputs": [],
   "source": [
    "from datetime import datetime"
   ]
  },
  {
   "cell_type": "code",
   "execution_count": 6,
   "metadata": {},
   "outputs": [],
   "source": [
    "import pytest"
   ]
  },
  {
   "cell_type": "code",
   "execution_count": 271,
   "metadata": {},
   "outputs": [
    {
     "name": "stdout",
     "output_type": "stream",
     "text": [
      "Collecting great_expectations\n",
      "  Downloading great_expectations-0.13.3-py3-none-any.whl (4.5 MB)\n",
      "\u001b[K     |████████████████████████████████| 4.5 MB 2.4 MB/s eta 0:00:01\n",
      "\u001b[?25hCollecting pyparsing<3,>=2.4\n",
      "  Downloading pyparsing-2.4.7-py2.py3-none-any.whl (67 kB)\n",
      "\u001b[K     |████████████████████████████████| 67 kB 3.7 MB/s eta 0:00:01\n",
      "\u001b[?25hCollecting tzlocal>=1.2\n",
      "  Downloading tzlocal-2.1-py2.py3-none-any.whl (16 kB)\n",
      "Requirement already satisfied: scipy>=0.19.0 in /opt/anaconda3/lib/python3.6/site-packages (from great_expectations) (1.1.0)\n",
      "Collecting termcolor>=1.1.0\n",
      "  Downloading termcolor-1.1.0.tar.gz (3.9 kB)\n",
      "Collecting altair<5,>=4.0.0\n",
      "  Downloading altair-4.1.0-py3-none-any.whl (727 kB)\n",
      "\u001b[K     |████████████████████████████████| 727 kB 7.2 MB/s eta 0:00:01\n",
      "\u001b[?25hCollecting ruamel.yaml>=0.16\n",
      "  Downloading ruamel.yaml-0.16.12-py2.py3-none-any.whl (111 kB)\n",
      "\u001b[K     |████████████████████████████████| 111 kB 7.1 MB/s eta 0:00:01\n",
      "\u001b[?25hCollecting Click>=7.1.2\n",
      "  Downloading click-7.1.2-py2.py3-none-any.whl (82 kB)\n",
      "\u001b[K     |████████████████████████████████| 82 kB 903 kB/s eta 0:00:01\n",
      "\u001b[?25hRequirement already satisfied: pandas>=0.23.0 in /opt/anaconda3/lib/python3.6/site-packages (from great_expectations) (0.25.3)\n",
      "Requirement already satisfied: pytz>=2015.6 in /opt/anaconda3/lib/python3.6/site-packages (from great_expectations) (2019.3)\n",
      "Collecting requests<2.24,>=2.20\n",
      "  Downloading requests-2.23.0-py2.py3-none-any.whl (58 kB)\n",
      "\u001b[K     |████████████████████████████████| 58 kB 4.6 MB/s eta 0:00:01\n",
      "\u001b[?25hRequirement already satisfied: python-dateutil>=2.8.1 in /opt/anaconda3/lib/python3.6/site-packages (from great_expectations) (2.8.1)\n",
      "Collecting importlib-metadata>=1.7.0\n",
      "  Downloading importlib_metadata-3.3.0-py3-none-any.whl (10 kB)\n",
      "Requirement already satisfied: jsonschema>=2.5.1 in /opt/anaconda3/lib/python3.6/site-packages (from great_expectations) (2.6.0)\n",
      "Collecting jsonpatch>=1.22\n",
      "  Downloading jsonpatch-1.28-py2.py3-none-any.whl (12 kB)\n",
      "Requirement already satisfied: numpy>=1.14.1 in /opt/anaconda3/lib/python3.6/site-packages (from great_expectations) (1.14.3)\n",
      "Collecting ipywidgets>=7.5.1\n",
      "  Downloading ipywidgets-7.5.1-py2.py3-none-any.whl (121 kB)\n",
      "\u001b[K     |████████████████████████████████| 121 kB 8.2 MB/s eta 0:00:01\n",
      "\u001b[?25hCollecting mistune>=0.8.4\n",
      "  Downloading mistune-0.8.4-py2.py3-none-any.whl (16 kB)\n",
      "Requirement already satisfied: jinja2>=2.10 in /opt/anaconda3/lib/python3.6/site-packages (from great_expectations) (2.10)\n",
      "Collecting black>=19.10b0\n",
      "  Downloading black-20.8b1.tar.gz (1.1 MB)\n",
      "\u001b[K     |████████████████████████████████| 1.1 MB 7.6 MB/s eta 0:00:01     |█████████████████████████████   | 993 kB 7.6 MB/s eta 0:00:01\n",
      "\u001b[?25h  Installing build dependencies ... \u001b[?25ldone\n",
      "\u001b[?25h  Getting requirements to build wheel ... \u001b[?25ldone\n",
      "\u001b[?25h    Preparing wheel metadata ... \u001b[?25ldone\n",
      "\u001b[?25hRequirement already satisfied: entrypoints in /opt/anaconda3/lib/python3.6/site-packages (from altair<5,>=4.0.0->great_expectations) (0.2.3)\n",
      "Requirement already satisfied: toolz in /opt/anaconda3/lib/python3.6/site-packages (from altair<5,>=4.0.0->great_expectations) (0.9.0)\n",
      "Collecting ruamel.yaml.clib>=0.1.2; platform_python_implementation == \"CPython\" and python_version < \"3.9\"\n",
      "  Downloading ruamel.yaml.clib-0.2.2-cp36-cp36m-manylinux1_x86_64.whl (549 kB)\n",
      "\u001b[K     |████████████████████████████████| 549 kB 4.5 MB/s eta 0:00:01\n",
      "\u001b[?25hRequirement already satisfied: certifi>=2017.4.17 in /opt/anaconda3/lib/python3.6/site-packages (from requests<2.24,>=2.20->great_expectations) (2019.11.28)\n",
      "Requirement already satisfied: idna<3,>=2.5 in /opt/anaconda3/lib/python3.6/site-packages (from requests<2.24,>=2.20->great_expectations) (2.6)\n",
      "Requirement already satisfied: urllib3!=1.25.0,!=1.25.1,<1.26,>=1.21.1 in /opt/anaconda3/lib/python3.6/site-packages (from requests<2.24,>=2.20->great_expectations) (1.22)\n",
      "Requirement already satisfied: chardet<4,>=3.0.2 in /opt/anaconda3/lib/python3.6/site-packages (from requests<2.24,>=2.20->great_expectations) (3.0.4)\n",
      "Requirement already satisfied: six>=1.5 in /opt/anaconda3/lib/python3.6/site-packages (from python-dateutil>=2.8.1->great_expectations) (1.14.0)\n",
      "Collecting typing-extensions>=3.6.4; python_version < \"3.8\"\n",
      "  Downloading typing_extensions-3.7.4.3-py3-none-any.whl (22 kB)\n",
      "Collecting zipp>=0.5\n",
      "  Downloading zipp-3.4.0-py3-none-any.whl (5.2 kB)\n",
      "Collecting jsonpointer>=1.9\n",
      "  Downloading jsonpointer-2.0-py2.py3-none-any.whl (7.6 kB)\n",
      "Collecting widgetsnbextension~=3.5.0\n",
      "  Downloading widgetsnbextension-3.5.1-py2.py3-none-any.whl (2.2 MB)\n",
      "\u001b[K     |████████████████████████████████| 2.2 MB 6.2 MB/s eta 0:00:01     |█████████████████████████████▉  | 2.1 MB 6.2 MB/s eta 0:00:01\n",
      "\u001b[?25hRequirement already satisfied: ipython>=4.0.0; python_version >= \"3.3\" in /opt/anaconda3/lib/python3.6/site-packages (from ipywidgets>=7.5.1->great_expectations) (6.4.0)\n",
      "Requirement already satisfied: traitlets>=4.3.1 in /opt/anaconda3/lib/python3.6/site-packages (from ipywidgets>=7.5.1->great_expectations) (4.3.2)\n",
      "Requirement already satisfied: ipykernel>=4.5.1 in /opt/anaconda3/lib/python3.6/site-packages (from ipywidgets>=7.5.1->great_expectations) (4.8.2)\n",
      "Requirement already satisfied: nbformat>=4.2.0 in /opt/anaconda3/lib/python3.6/site-packages (from ipywidgets>=7.5.1->great_expectations) (4.4.0)\n",
      "Requirement already satisfied: MarkupSafe>=0.23 in /opt/anaconda3/lib/python3.6/site-packages (from jinja2>=2.10->great_expectations) (1.0)\n",
      "Collecting pathspec<1,>=0.6\n",
      "  Downloading pathspec-0.8.1-py2.py3-none-any.whl (28 kB)\n",
      "Collecting appdirs\n",
      "  Downloading appdirs-1.4.4-py2.py3-none-any.whl (9.6 kB)\n",
      "Collecting typed-ast>=1.4.0\n",
      "  Downloading typed_ast-1.4.1-cp36-cp36m-manylinux1_x86_64.whl (737 kB)\n",
      "\u001b[K     |████████████████████████████████| 737 kB 6.9 MB/s eta 0:00:01\n",
      "\u001b[?25hCollecting toml>=0.10.1\n",
      "  Downloading toml-0.10.2-py2.py3-none-any.whl (16 kB)\n",
      "Collecting mypy-extensions>=0.4.3\n",
      "  Downloading mypy_extensions-0.4.3-py2.py3-none-any.whl (4.5 kB)\n",
      "Collecting dataclasses>=0.6; python_version < \"3.7\"\n",
      "  Downloading dataclasses-0.8-py3-none-any.whl (19 kB)\n",
      "Collecting regex>=2020.1.8\n",
      "  Downloading regex-2020.11.13-cp36-cp36m-manylinux2014_x86_64.whl (723 kB)\n",
      "\u001b[K     |████████████████████████████████| 723 kB 5.5 MB/s eta 0:00:01\n",
      "\u001b[?25hRequirement already satisfied: notebook>=4.4.1 in /opt/anaconda3/lib/python3.6/site-packages (from widgetsnbextension~=3.5.0->ipywidgets>=7.5.1->great_expectations) (5.5.0)\n",
      "Requirement already satisfied: simplegeneric>0.8 in /opt/anaconda3/lib/python3.6/site-packages (from ipython>=4.0.0; python_version >= \"3.3\"->ipywidgets>=7.5.1->great_expectations) (0.8.1)\n",
      "Requirement already satisfied: pickleshare in /opt/anaconda3/lib/python3.6/site-packages (from ipython>=4.0.0; python_version >= \"3.3\"->ipywidgets>=7.5.1->great_expectations) (0.7.4)\n",
      "Requirement already satisfied: prompt-toolkit<2.0.0,>=1.0.15 in /opt/anaconda3/lib/python3.6/site-packages (from ipython>=4.0.0; python_version >= \"3.3\"->ipywidgets>=7.5.1->great_expectations) (1.0.15)\n",
      "Requirement already satisfied: backcall in /opt/anaconda3/lib/python3.6/site-packages (from ipython>=4.0.0; python_version >= \"3.3\"->ipywidgets>=7.5.1->great_expectations) (0.1.0)\n",
      "Requirement already satisfied: decorator in /opt/anaconda3/lib/python3.6/site-packages (from ipython>=4.0.0; python_version >= \"3.3\"->ipywidgets>=7.5.1->great_expectations) (4.3.0)\n",
      "Requirement already satisfied: jedi>=0.10 in /opt/anaconda3/lib/python3.6/site-packages (from ipython>=4.0.0; python_version >= \"3.3\"->ipywidgets>=7.5.1->great_expectations) (0.12.0)\n",
      "Requirement already satisfied: pygments in /opt/anaconda3/lib/python3.6/site-packages (from ipython>=4.0.0; python_version >= \"3.3\"->ipywidgets>=7.5.1->great_expectations) (2.2.0)\n",
      "Requirement already satisfied: setuptools>=18.5 in /opt/anaconda3/lib/python3.6/site-packages (from ipython>=4.0.0; python_version >= \"3.3\"->ipywidgets>=7.5.1->great_expectations) (46.0.0.post20200309)\n",
      "Requirement already satisfied: pexpect; sys_platform != \"win32\" in /opt/anaconda3/lib/python3.6/site-packages (from ipython>=4.0.0; python_version >= \"3.3\"->ipywidgets>=7.5.1->great_expectations) (4.5.0)\n",
      "Requirement already satisfied: ipython_genutils in /opt/anaconda3/lib/python3.6/site-packages (from traitlets>=4.3.1->ipywidgets>=7.5.1->great_expectations) (0.2.0)\n",
      "Requirement already satisfied: jupyter_client in /opt/anaconda3/lib/python3.6/site-packages (from ipykernel>=4.5.1->ipywidgets>=7.5.1->great_expectations) (5.2.3)\n",
      "Requirement already satisfied: tornado>=4.0 in /opt/anaconda3/lib/python3.6/site-packages (from ipykernel>=4.5.1->ipywidgets>=7.5.1->great_expectations) (5.0.2)\n",
      "Requirement already satisfied: jupyter_core in /opt/anaconda3/lib/python3.6/site-packages (from nbformat>=4.2.0->ipywidgets>=7.5.1->great_expectations) (4.4.0)\n",
      "Requirement already satisfied: nbconvert in /opt/anaconda3/lib/python3.6/site-packages (from notebook>=4.4.1->widgetsnbextension~=3.5.0->ipywidgets>=7.5.1->great_expectations) (5.3.1)\n",
      "Requirement already satisfied: Send2Trash in /opt/anaconda3/lib/python3.6/site-packages (from notebook>=4.4.1->widgetsnbextension~=3.5.0->ipywidgets>=7.5.1->great_expectations) (1.5.0)\n",
      "Requirement already satisfied: pyzmq>=17 in /opt/anaconda3/lib/python3.6/site-packages (from notebook>=4.4.1->widgetsnbextension~=3.5.0->ipywidgets>=7.5.1->great_expectations) (17.0.0)\n",
      "Requirement already satisfied: terminado>=0.8.1 in /opt/anaconda3/lib/python3.6/site-packages (from notebook>=4.4.1->widgetsnbextension~=3.5.0->ipywidgets>=7.5.1->great_expectations) (0.8.1)\n",
      "Requirement already satisfied: wcwidth in /opt/anaconda3/lib/python3.6/site-packages (from prompt-toolkit<2.0.0,>=1.0.15->ipython>=4.0.0; python_version >= \"3.3\"->ipywidgets>=7.5.1->great_expectations) (0.1.7)\n",
      "Requirement already satisfied: parso>=0.2.0 in /opt/anaconda3/lib/python3.6/site-packages (from jedi>=0.10->ipython>=4.0.0; python_version >= \"3.3\"->ipywidgets>=7.5.1->great_expectations) (0.2.0)\n",
      "Requirement already satisfied: ptyprocess>=0.5 in /opt/anaconda3/lib/python3.6/site-packages (from pexpect; sys_platform != \"win32\"->ipython>=4.0.0; python_version >= \"3.3\"->ipywidgets>=7.5.1->great_expectations) (0.5.2)\n",
      "Requirement already satisfied: bleach in /opt/anaconda3/lib/python3.6/site-packages (from nbconvert->notebook>=4.4.1->widgetsnbextension~=3.5.0->ipywidgets>=7.5.1->great_expectations) (2.1.3)\n"
     ]
    },
    {
     "name": "stdout",
     "output_type": "stream",
     "text": [
      "Requirement already satisfied: pandocfilters>=1.4.1 in /opt/anaconda3/lib/python3.6/site-packages (from nbconvert->notebook>=4.4.1->widgetsnbextension~=3.5.0->ipywidgets>=7.5.1->great_expectations) (1.4.2)\n",
      "Requirement already satisfied: testpath in /opt/anaconda3/lib/python3.6/site-packages (from nbconvert->notebook>=4.4.1->widgetsnbextension~=3.5.0->ipywidgets>=7.5.1->great_expectations) (0.3.1)\n",
      "Requirement already satisfied: html5lib!=1.0b1,!=1.0b2,!=1.0b3,!=1.0b4,!=1.0b5,!=1.0b6,!=1.0b7,!=1.0b8,>=0.99999999pre in /opt/anaconda3/lib/python3.6/site-packages (from bleach->nbconvert->notebook>=4.4.1->widgetsnbextension~=3.5.0->ipywidgets>=7.5.1->great_expectations) (1.0.1)\n",
      "Requirement already satisfied: webencodings in /opt/anaconda3/lib/python3.6/site-packages (from html5lib!=1.0b1,!=1.0b2,!=1.0b3,!=1.0b4,!=1.0b5,!=1.0b6,!=1.0b7,!=1.0b8,>=0.99999999pre->bleach->nbconvert->notebook>=4.4.1->widgetsnbextension~=3.5.0->ipywidgets>=7.5.1->great_expectations) (0.5.1)\n",
      "Building wheels for collected packages: termcolor, black\n",
      "  Building wheel for termcolor (setup.py) ... \u001b[?25ldone\n",
      "\u001b[?25h  Created wheel for termcolor: filename=termcolor-1.1.0-py3-none-any.whl size=4830 sha256=125b7814eca830811094c03e643d82a341d7151179be7c4e0f2076b8c8905026\n",
      "  Stored in directory: /root/.cache/pip/wheels/93/2a/eb/e58dbcbc963549ee4f065ff80a59f274cc7210b6eab962acdc\n",
      "  Building wheel for black (PEP 517) ... \u001b[?25ldone\n",
      "\u001b[?25h  Created wheel for black: filename=black-20.8b1-py3-none-any.whl size=124184 sha256=2dd63459d2224dbd8262de9fb10079d10d2994542671c212e9ba551c185e9e95\n",
      "  Stored in directory: /root/.cache/pip/wheels/dd/c8/94/e774504958e4667180d81202d1d45cdc35d6222ae39229871b\n",
      "Successfully built termcolor black\n",
      "\u001b[31mERROR: distributed 1.21.8 requires msgpack, which is not installed.\u001b[0m\n",
      "Installing collected packages: pyparsing, tzlocal, termcolor, altair, ruamel.yaml.clib, ruamel.yaml, Click, requests, typing-extensions, zipp, importlib-metadata, jsonpointer, jsonpatch, widgetsnbextension, ipywidgets, mistune, pathspec, appdirs, typed-ast, toml, mypy-extensions, dataclasses, regex, black, great-expectations\n",
      "  Attempting uninstall: pyparsing\n",
      "    Found existing installation: pyparsing 2.2.0\n",
      "    Uninstalling pyparsing-2.2.0:\n",
      "      Successfully uninstalled pyparsing-2.2.0\n",
      "  Attempting uninstall: Click\n",
      "    Found existing installation: click 6.7\n",
      "    Uninstalling click-6.7:\n",
      "      Successfully uninstalled click-6.7\n",
      "  Attempting uninstall: requests\n",
      "    Found existing installation: requests 2.18.4\n",
      "    Uninstalling requests-2.18.4:\n",
      "      Successfully uninstalled requests-2.18.4\n",
      "  Attempting uninstall: widgetsnbextension\n",
      "    Found existing installation: widgetsnbextension 3.2.1\n",
      "    Uninstalling widgetsnbextension-3.2.1:\n",
      "      Successfully uninstalled widgetsnbextension-3.2.1\n",
      "  Attempting uninstall: ipywidgets\n",
      "    Found existing installation: ipywidgets 7.2.1\n",
      "    Uninstalling ipywidgets-7.2.1:\n",
      "      Successfully uninstalled ipywidgets-7.2.1\n",
      "  Attempting uninstall: mistune\n",
      "    Found existing installation: mistune 0.8.3\n",
      "    Uninstalling mistune-0.8.3:\n",
      "      Successfully uninstalled mistune-0.8.3\n",
      "Successfully installed Click-7.1.2 altair-4.1.0 appdirs-1.4.4 black-20.8b1 dataclasses-0.8 great-expectations-0.13.3 importlib-metadata-3.3.0 ipywidgets-7.5.1 jsonpatch-1.28 jsonpointer-2.0 mistune-0.8.4 mypy-extensions-0.4.3 pathspec-0.8.1 pyparsing-2.4.7 regex-2020.11.13 requests-2.23.0 ruamel.yaml-0.16.12 ruamel.yaml.clib-0.2.2 termcolor-1.1.0 toml-0.10.2 typed-ast-1.4.1 typing-extensions-3.7.4.3 tzlocal-2.1 widgetsnbextension-3.5.1 zipp-3.4.0\n"
     ]
    }
   ],
   "source": [
    "!pip install great_expectations"
   ]
  },
  {
   "cell_type": "code",
   "execution_count": 7,
   "metadata": {},
   "outputs": [],
   "source": [
    "import great_expectations as ge"
   ]
  },
  {
   "cell_type": "code",
   "execution_count": 8,
   "metadata": {},
   "outputs": [],
   "source": [
    "appName = \"PySpark Hive\"\n",
    "master = \"local\"\n",
    "\n",
    "spark = SparkSession.builder \\\n",
    "    .appName(appName) \\\n",
    "    .master(master) \\\n",
    "    .enableHiveSupport() \\\n",
    "    .getOrCreate()"
   ]
  },
  {
   "cell_type": "code",
   "execution_count": 9,
   "metadata": {
    "scrolled": false
   },
   "outputs": [],
   "source": [
    "sqlContext = HiveContext(sc)"
   ]
  },
  {
   "cell_type": "code",
   "execution_count": 10,
   "metadata": {},
   "outputs": [
    {
     "name": "stdout",
     "output_type": "stream",
     "text": [
      "+------------+\n",
      "|databaseName|\n",
      "+------------+\n",
      "|     default|\n",
      "+------------+\n",
      "\n"
     ]
    }
   ],
   "source": [
    "sqlContext.sql(\"show databases\").show()"
   ]
  },
  {
   "cell_type": "code",
   "execution_count": 11,
   "metadata": {},
   "outputs": [
    {
     "name": "stdout",
     "output_type": "stream",
     "text": [
      "+--------+-----------+-----------+\n",
      "|database|  tableName|isTemporary|\n",
      "+--------+-----------+-----------+\n",
      "| default|       game|      false|\n",
      "| default|game_rating|      false|\n",
      "| default|game_review|      false|\n",
      "| default|      teste|      false|\n",
      "+--------+-----------+-----------+\n",
      "\n"
     ]
    }
   ],
   "source": [
    "sqlContext.sql(\"show tables\").show()"
   ]
  },
  {
   "cell_type": "code",
   "execution_count": 12,
   "metadata": {},
   "outputs": [],
   "source": [
    "spark.conf.set(\"spark.sql.legacy.allowCreatingManagedTableUsingNonemptyLocation\", \"true\")"
   ]
  },
  {
   "cell_type": "code",
   "execution_count": 13,
   "metadata": {
    "scrolled": true
   },
   "outputs": [
    {
     "data": {
      "text/html": [
       "\n",
       "            <div>\n",
       "                <p><b>SparkSession - hive</b></p>\n",
       "                \n",
       "        <div>\n",
       "            <p><b>SparkContext</b></p>\n",
       "\n",
       "            <p><a href=\"http://jupyter-spark:4040\">Spark UI</a></p>\n",
       "\n",
       "            <dl>\n",
       "              <dt>Version</dt>\n",
       "                <dd><code>v2.4.1</code></dd>\n",
       "              <dt>Master</dt>\n",
       "                <dd><code>local[*]</code></dd>\n",
       "              <dt>AppName</dt>\n",
       "                <dd><code>pyspark-shell</code></dd>\n",
       "            </dl>\n",
       "        </div>\n",
       "        \n",
       "            </div>\n",
       "        "
      ],
      "text/plain": [
       "<pyspark.sql.session.SparkSession at 0x7eff1868dd68>"
      ]
     },
     "execution_count": 13,
     "metadata": {},
     "output_type": "execute_result"
    }
   ],
   "source": [
    "spark"
   ]
  },
  {
   "cell_type": "markdown",
   "metadata": {},
   "source": [
    "### Starting the tables"
   ]
  },
  {
   "cell_type": "markdown",
   "metadata": {},
   "source": [
    "#### Game"
   ]
  },
  {
   "cell_type": "code",
   "execution_count": 14,
   "metadata": {},
   "outputs": [
    {
     "data": {
      "text/plain": [
       "DataFrame[]"
      ]
     },
     "execution_count": 14,
     "metadata": {},
     "output_type": "execute_result"
    }
   ],
   "source": [
    "sqlContext.sql(\"DROP TABLE IF EXISTS game PURGE\")"
   ]
  },
  {
   "cell_type": "code",
   "execution_count": 15,
   "metadata": {},
   "outputs": [
    {
     "data": {
      "text/plain": [
       "DataFrame[]"
      ]
     },
     "execution_count": 15,
     "metadata": {},
     "output_type": "execute_result"
    }
   ],
   "source": [
    "sqlContext.sql(\"CREATE TABLE IF NOT EXISTS game(id STRING , name STRING, type STRING) ROW FORMAT DELIMITED FIELDS TERMINATED BY ',' LINES TERMINATED BY '\\n'\")"
   ]
  },
  {
   "cell_type": "code",
   "execution_count": 16,
   "metadata": {},
   "outputs": [
    {
     "data": {
      "text/plain": [
       "DataFrame[]"
      ]
     },
     "execution_count": 16,
     "metadata": {},
     "output_type": "execute_result"
    }
   ],
   "source": [
    "sqlContext.sql(\"insert into default.game values ('1', 'game1', 'poker')\")\n",
    "sqlContext.sql(\"insert into default.game values ('2', 'game2', 'blackjack')\")\n",
    "sqlContext.sql(\"insert into default.game values ('3', 'game3', 'poker')\")"
   ]
  },
  {
   "cell_type": "markdown",
   "metadata": {},
   "source": [
    "#### Game_review"
   ]
  },
  {
   "cell_type": "code",
   "execution_count": 17,
   "metadata": {},
   "outputs": [
    {
     "data": {
      "text/plain": [
       "DataFrame[]"
      ]
     },
     "execution_count": 17,
     "metadata": {},
     "output_type": "execute_result"
    }
   ],
   "source": [
    "sqlContext.sql(\"DROP TABLE IF EXISTS game_review PURGE\")"
   ]
  },
  {
   "cell_type": "code",
   "execution_count": 18,
   "metadata": {},
   "outputs": [
    {
     "data": {
      "text/plain": [
       "DataFrame[]"
      ]
     },
     "execution_count": 18,
     "metadata": {},
     "output_type": "execute_result"
    }
   ],
   "source": [
    "sqlContext.sql('''CREATE TABLE IF NOT EXISTS game_review(\n",
    "                review_id STRING , \n",
    "                client_id STRING, \n",
    "                game_id STRING,\n",
    "                rating INT,\n",
    "                review_timestamp TIMESTAMP) \n",
    "                PARTITIONED BY (timestamp_review_date STRING) \n",
    "                ROW FORMAT DELIMITED FIELDS TERMINATED BY ',' \n",
    "                LINES TERMINATED BY '\\n' ''')"
   ]
  },
  {
   "cell_type": "code",
   "execution_count": 19,
   "metadata": {},
   "outputs": [
    {
     "data": {
      "text/plain": [
       "DataFrame[key: string, value: string]"
      ]
     },
     "execution_count": 19,
     "metadata": {},
     "output_type": "execute_result"
    }
   ],
   "source": [
    "sqlContext.sql('''set hive.exec.dynamic.partition.mode=nonstrict''')"
   ]
  },
  {
   "cell_type": "code",
   "execution_count": 20,
   "metadata": {},
   "outputs": [
    {
     "data": {
      "text/plain": [
       "DataFrame[]"
      ]
     },
     "execution_count": 20,
     "metadata": {},
     "output_type": "execute_result"
    }
   ],
   "source": [
    "sqlContext.sql('''insert into default.game_review values ('1', '1','1',5,'2020-12-20 00:00:00','2020-12-20'),\n",
    "                ('2', '2','1',3,'2020-12-20 00:00:00','2020-12-20'),\n",
    "                ('3', '3','1',2,'2020-12-19 00:00:00','2020-12-19'),\n",
    "                ('4', '1','1',1,'2020-12-18 00:00:00','2020-12-18'),\n",
    "                ('5', '2','1',0,'2020-12-20 00:00:00','2020-12-20'),\n",
    "                ('6', '3','1',5,'2020-12-20 00:00:00','2020-12-20'),\n",
    "                ('7', '1','2',2,'2020-12-19 00:00:00','2020-12-19'),\n",
    "                ('8', '2','2',4,'2020-12-17 00:00:00','2020-12-17'),\n",
    "                ('9', '3','2',4,'2020-12-17 00:00:00','2020-12-17'),\n",
    "                ('10', '1','2',3,'2019-12-20 00:00:00','2019-12-20'),\n",
    "                ('11', '2','2',2,'2020-11-20 00:00:00','2020-11-20'),\n",
    "                ('12', '3','2',5,'2020-10-20 00:00:00','2020-10-20'),\n",
    "                ('13', '1','2',3,'2020-09-20 00:00:00','2020-09-20'),\n",
    "                ('14', '2','3',2,'2020-12-20 00:00:00','2020-12-20'),\n",
    "                ('15', '3','3',1,'2018-12-20 00:00:00','2018-12-20'),\n",
    "                ('16', '1','3',1,'2020-12-13 00:00:00','2020-12-13'),\n",
    "                ('17', '2','3',5,'2020-10-01 00:00:00','2020-10-01'),\n",
    "                ('18', '3','3',5,'2020-11-10 00:00:00','2020-11-10'),\n",
    "                ('19', '1','3',4,'2020-12-24 00:00:00','2020-12-24'),\n",
    "                ('20', '2','3',3,'2020-12-25 00:00:00','2020-12-25'),\n",
    "                ('21', '3','3',2,'2020-12-20 00:00:00','2020-12-20')\n",
    "            ''')"
   ]
  },
  {
   "cell_type": "markdown",
   "metadata": {},
   "source": [
    "### Treatments"
   ]
  },
  {
   "cell_type": "code",
   "execution_count": 21,
   "metadata": {},
   "outputs": [],
   "source": [
    "game_df = sqlContext.sql(\"select * from default.game\")"
   ]
  },
  {
   "cell_type": "code",
   "execution_count": 22,
   "metadata": {},
   "outputs": [],
   "source": [
    "game_review_df = sqlContext.sql('''select * from default.game_review ''')"
   ]
  },
  {
   "cell_type": "code",
   "execution_count": 23,
   "metadata": {
    "scrolled": true
   },
   "outputs": [],
   "source": [
    "game_review_df = game_review_df.withColumn(\"validate_months\", \n",
    "                f.months_between(f.to_date(f.lit(datetime.now().strftime('%Y-%m-%d'))),\n",
    "                f.to_date(\"review_timestamp\",\"yyyy/MM/dd\")))"
   ]
  },
  {
   "cell_type": "code",
   "execution_count": 24,
   "metadata": {},
   "outputs": [
    {
     "data": {
      "text/plain": [
       "DataFrame[review_id: string, client_id: string, game_id: string, rating: int, review_timestamp: timestamp, timestamp_review_date: string, validate_months: double]"
      ]
     },
     "execution_count": 24,
     "metadata": {},
     "output_type": "execute_result"
    }
   ],
   "source": [
    "game_review_df"
   ]
  },
  {
   "cell_type": "code",
   "execution_count": 25,
   "metadata": {},
   "outputs": [],
   "source": [
    "game_review_df = game_review_df.filter(game_review_df.validate_months <= 3)"
   ]
  },
  {
   "cell_type": "code",
   "execution_count": 26,
   "metadata": {},
   "outputs": [],
   "source": [
    "game_review_df = game_review_df.filter(game_review_df.validate_months >= 0)"
   ]
  },
  {
   "cell_type": "code",
   "execution_count": 27,
   "metadata": {
    "scrolled": true
   },
   "outputs": [
    {
     "name": "stdout",
     "output_type": "stream",
     "text": [
      "+---------+---------+-------+------+-------------------+---------------------+---------------+\n",
      "|review_id|client_id|game_id|rating|   review_timestamp|timestamp_review_date|validate_months|\n",
      "+---------+---------+-------+------+-------------------+---------------------+---------------+\n",
      "|       11|        2|      2|     2|2020-11-20 00:00:00|           2020-11-20|     1.03225806|\n",
      "|        4|        1|      1|     1|2020-12-18 00:00:00|           2020-12-18|     0.09677419|\n",
      "|        3|        3|      1|     2|2020-12-19 00:00:00|           2020-12-19|     0.06451613|\n",
      "|        7|        1|      2|     2|2020-12-19 00:00:00|           2020-12-19|     0.06451613|\n",
      "|       18|        3|      3|     5|2020-11-10 00:00:00|           2020-11-10|     1.35483871|\n",
      "|       16|        1|      3|     1|2020-12-13 00:00:00|           2020-12-13|     0.25806452|\n",
      "|        8|        2|      2|     4|2020-12-17 00:00:00|           2020-12-17|     0.12903226|\n",
      "|        9|        3|      2|     4|2020-12-17 00:00:00|           2020-12-17|     0.12903226|\n",
      "|       17|        2|      3|     5|2020-10-01 00:00:00|           2020-10-01|     2.64516129|\n",
      "|        1|        1|      1|     5|2020-12-20 00:00:00|           2020-12-20|     0.03225806|\n",
      "|        2|        2|      1|     3|2020-12-20 00:00:00|           2020-12-20|     0.03225806|\n",
      "|        5|        2|      1|     0|2020-12-20 00:00:00|           2020-12-20|     0.03225806|\n",
      "|        6|        3|      1|     5|2020-12-20 00:00:00|           2020-12-20|     0.03225806|\n",
      "|       14|        2|      3|     2|2020-12-20 00:00:00|           2020-12-20|     0.03225806|\n",
      "|       21|        3|      3|     2|2020-12-20 00:00:00|           2020-12-20|     0.03225806|\n",
      "|       12|        3|      2|     5|2020-10-20 00:00:00|           2020-10-20|     2.03225806|\n",
      "+---------+---------+-------+------+-------------------+---------------------+---------------+\n",
      "\n"
     ]
    }
   ],
   "source": [
    "game_review_df.show()"
   ]
  },
  {
   "cell_type": "code",
   "execution_count": 28,
   "metadata": {},
   "outputs": [],
   "source": [
    "has_more_than_five_months = game_review_df.groupby(['game_id']).count().where('count > 5')"
   ]
  },
  {
   "cell_type": "code",
   "execution_count": 29,
   "metadata": {},
   "outputs": [],
   "source": [
    "game_review_df = game_review_df.join(\n",
    "                has_more_than_five_months,\n",
    "                ['game_id'])"
   ]
  },
  {
   "cell_type": "code",
   "execution_count": 30,
   "metadata": {},
   "outputs": [
    {
     "name": "stdout",
     "output_type": "stream",
     "text": [
      "+-------+---------+---------+------+-------------------+---------------------+---------------+-----+\n",
      "|game_id|review_id|client_id|rating|   review_timestamp|timestamp_review_date|validate_months|count|\n",
      "+-------+---------+---------+------+-------------------+---------------------+---------------+-----+\n",
      "|      1|        1|        1|     5|2020-12-20 00:00:00|           2020-12-20|     0.03225806|    6|\n",
      "|      1|        2|        2|     3|2020-12-20 00:00:00|           2020-12-20|     0.03225806|    6|\n",
      "|      1|        5|        2|     0|2020-12-20 00:00:00|           2020-12-20|     0.03225806|    6|\n",
      "|      1|        6|        3|     5|2020-12-20 00:00:00|           2020-12-20|     0.03225806|    6|\n",
      "|      1|        3|        3|     2|2020-12-19 00:00:00|           2020-12-19|     0.06451613|    6|\n",
      "|      1|        4|        1|     1|2020-12-18 00:00:00|           2020-12-18|     0.09677419|    6|\n",
      "+-------+---------+---------+------+-------------------+---------------------+---------------+-----+\n",
      "\n"
     ]
    }
   ],
   "source": [
    "game_review_df.show()"
   ]
  },
  {
   "cell_type": "code",
   "execution_count": 31,
   "metadata": {},
   "outputs": [],
   "source": [
    "game_review_df_full = game_review_df.join(\n",
    "                    game_df,\n",
    "                    game_review_df.game_id == game_df.id)"
   ]
  },
  {
   "cell_type": "code",
   "execution_count": 32,
   "metadata": {
    "scrolled": true
   },
   "outputs": [
    {
     "name": "stdout",
     "output_type": "stream",
     "text": [
      "+-------+---------+---------+------+-------------------+---------------------+---------------+-----+---+-----+-----+\n",
      "|game_id|review_id|client_id|rating|   review_timestamp|timestamp_review_date|validate_months|count| id| name| type|\n",
      "+-------+---------+---------+------+-------------------+---------------------+---------------+-----+---+-----+-----+\n",
      "|      1|        3|        3|     2|2020-12-19 00:00:00|           2020-12-19|     0.06451613|    6|  1|game1|poker|\n",
      "|      1|        1|        1|     5|2020-12-20 00:00:00|           2020-12-20|     0.03225806|    6|  1|game1|poker|\n",
      "|      1|        2|        2|     3|2020-12-20 00:00:00|           2020-12-20|     0.03225806|    6|  1|game1|poker|\n",
      "|      1|        5|        2|     0|2020-12-20 00:00:00|           2020-12-20|     0.03225806|    6|  1|game1|poker|\n",
      "|      1|        6|        3|     5|2020-12-20 00:00:00|           2020-12-20|     0.03225806|    6|  1|game1|poker|\n",
      "|      1|        4|        1|     1|2020-12-18 00:00:00|           2020-12-18|     0.09677419|    6|  1|game1|poker|\n",
      "+-------+---------+---------+------+-------------------+---------------------+---------------+-----+---+-----+-----+\n",
      "\n"
     ]
    }
   ],
   "source": [
    "game_review_df_full.show()"
   ]
  },
  {
   "cell_type": "code",
   "execution_count": 33,
   "metadata": {},
   "outputs": [],
   "source": [
    "game_review_df_full.createOrReplaceTempView(\"temp_validated_game_review\")"
   ]
  },
  {
   "cell_type": "code",
   "execution_count": 34,
   "metadata": {},
   "outputs": [
    {
     "data": {
      "text/plain": [
       "DataFrame[]"
      ]
     },
     "execution_count": 34,
     "metadata": {},
     "output_type": "execute_result"
    }
   ],
   "source": [
    "sqlContext.sql(\"DROP TABLE IF EXISTS game_rating PURGE\")"
   ]
  },
  {
   "cell_type": "code",
   "execution_count": 35,
   "metadata": {},
   "outputs": [],
   "source": [
    "sqlContext.sql('''\n",
    "                 create table game_rating as\n",
    "                 SELECT \n",
    "                  game_id, \n",
    "                  name as game_name, \n",
    "                  type as game_type,\n",
    "                  avg(rating) as rating\n",
    "                  FROM temp_validated_game_review\n",
    "                  group by\n",
    "                  game_id,\n",
    "                  name,\n",
    "                  type''');"
   ]
  },
  {
   "cell_type": "code",
   "execution_count": 36,
   "metadata": {},
   "outputs": [],
   "source": [
    "spark.catalog.dropTempView(\"temp_validated_game_review\")"
   ]
  },
  {
   "cell_type": "markdown",
   "metadata": {},
   "source": [
    "### Validations / Tests"
   ]
  },
  {
   "cell_type": "code",
   "execution_count": 37,
   "metadata": {},
   "outputs": [],
   "source": [
    "ge_spark_df = sqlContext.sql('''\n",
    "                 SELECT \n",
    "                  game_id, \n",
    "                  game_name, \n",
    "                  game_type,\n",
    "                  rating\n",
    "                  FROM game_rating\n",
    "                  ''');"
   ]
  },
  {
   "cell_type": "code",
   "execution_count": 38,
   "metadata": {},
   "outputs": [],
   "source": [
    "ge_pandas = ge_spark_df.toPandas()"
   ]
  },
  {
   "cell_type": "code",
   "execution_count": 39,
   "metadata": {},
   "outputs": [],
   "source": [
    "ge_df = ge.from_pandas(\n",
    "    ge_pandas\n",
    ")"
   ]
  },
  {
   "cell_type": "code",
   "execution_count": 40,
   "metadata": {
    "scrolled": true
   },
   "outputs": [
    {
     "data": {
      "text/plain": [
       "{\n",
       "  \"result\": {\n",
       "    \"element_count\": 1,\n",
       "    \"missing_count\": 0,\n",
       "    \"missing_percent\": 0.0,\n",
       "    \"unexpected_count\": 0,\n",
       "    \"unexpected_percent\": 0.0,\n",
       "    \"unexpected_percent_nonmissing\": 0.0,\n",
       "    \"partial_unexpected_list\": []\n",
       "  },\n",
       "  \"exception_info\": {\n",
       "    \"raised_exception\": false,\n",
       "    \"exception_traceback\": null,\n",
       "    \"exception_message\": null\n",
       "  },\n",
       "  \"meta\": {},\n",
       "  \"success\": true\n",
       "}"
      ]
     },
     "execution_count": 40,
     "metadata": {},
     "output_type": "execute_result"
    }
   ],
   "source": [
    "ge_df.expect_table_row_count_to_equal(1)\n",
    "ge_df.expect_column_values_to_be_in_set(\"rating\",[2.6666666666666665])"
   ]
  },
  {
   "cell_type": "code",
   "execution_count": 41,
   "metadata": {},
   "outputs": [],
   "source": [
    "validation_results = ge_df.validate()\n",
    "expectation_suite = ge_df.get_expectation_suite(discard_failed_expectations=False)\n"
   ]
  },
  {
   "cell_type": "code",
   "execution_count": 42,
   "metadata": {},
   "outputs": [],
   "source": [
    "if (validation_results.statistics['success_percent'] != 100):\n",
    "    raise Exception(\"Data with problem, look at the report: \\n\"+str(validation_results))"
   ]
  },
  {
   "cell_type": "code",
   "execution_count": null,
   "metadata": {},
   "outputs": [],
   "source": []
  }
 ],
 "metadata": {
  "kernelspec": {
   "display_name": "PySpark",
   "language": "python",
   "name": "pyspark"
  },
  "language_info": {
   "codemirror_mode": {
    "name": "ipython",
    "version": 3
   },
   "file_extension": ".py",
   "mimetype": "text/x-python",
   "name": "python",
   "nbconvert_exporter": "python",
   "pygments_lexer": "ipython3",
   "version": "3.6.10"
  }
 },
 "nbformat": 4,
 "nbformat_minor": 2
}
